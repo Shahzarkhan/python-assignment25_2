{
 "cells": [
  {
   "cell_type": "markdown",
   "id": "22a74837-940e-49ba-aed6-54414ec7018c",
   "metadata": {},
   "source": [
    "# -----------------------------Assignment_2---------------------"
   ]
  },
  {
   "cell_type": "markdown",
   "id": "a0175fcd-cbf1-4423-a3e9-5d14e74271d2",
   "metadata": {},
   "source": [
    "# 1. Write a Python program to convert kilometers to miles?"
   ]
  },
  {
   "cell_type": "code",
   "execution_count": 16,
   "id": "b9c8b379-b539-4c63-b1ee-ce912dc92157",
   "metadata": {},
   "outputs": [
    {
     "name": "stdin",
     "output_type": "stream",
     "text": [
      "Enter the value of :  12\n"
     ]
    },
    {
     "name": "stdout",
     "output_type": "stream",
     "text": [
      "miles is in 12 are : 7.4556\n"
     ]
    }
   ],
   "source": [
    "kilometer = int(input(\"Enter the value of : \"))\n",
    "miles = kilometer*0.6213\n",
    "print(f\"miles is in {kilometer} are : {miles}\")\n"
   ]
  },
  {
   "cell_type": "code",
   "execution_count": 22,
   "id": "c01d40e0-0056-46be-b89a-68896960298a",
   "metadata": {},
   "outputs": [
    {
     "name": "stdin",
     "output_type": "stream",
     "text": [
      "enter your kilometer : 12\n"
     ]
    },
    {
     "name": "stdout",
     "output_type": "stream",
     "text": [
      "miles is in 12 are : 7.4556\n"
     ]
    }
   ],
   "source": [
    "def km_to_miles(kilometer):\n",
    "    miles = kilometer*0.6213\n",
    "    print(f\"miles is in {kilometer} are : {miles}\")\n",
    "\n",
    "kilometer = int(input(\"enter your kilometer :\"))\n",
    "km_to_miles(kilometer)"
   ]
  },
  {
   "cell_type": "markdown",
   "id": "0b102753-3f4c-4bed-9ed9-50fff18bd99d",
   "metadata": {},
   "source": [
    "# 2. Write a Python program to convert Celsius to Fahrenheit?"
   ]
  },
  {
   "cell_type": "code",
   "execution_count": 41,
   "id": "550b0d67-d641-4ff2-b657-03f39a93b4bd",
   "metadata": {},
   "outputs": [
    {
     "name": "stdin",
     "output_type": "stream",
     "text": [
      "Enter the value of :  12\n"
     ]
    },
    {
     "name": "stdout",
     "output_type": "stream",
     "text": [
      "Celsius is in 12 are : 53.6\n"
     ]
    }
   ],
   "source": [
    "celsius = int(input(\"Enter the value of : \"))\n",
    "fahrenheit = (celsius * 9/5) + 32\n",
    "print(f\"Celsius is in {celsius} are : {fahrenheit}\")"
   ]
  },
  {
   "cell_type": "code",
   "execution_count": 37,
   "id": "5e91898d-3a5a-4a76-91ba-dbc2bc98b0e5",
   "metadata": {},
   "outputs": [],
   "source": [
    "def cel_to_fah(celsius):\n",
    "    fahrenheit = (celsius *  9/5) + 32\n",
    "    print(f\"Celsius is in {celsius} are : {fahrenheit}\")\n",
    "    return fahrenheit\n",
    "celsius = float(input(\"Enter  \"))"
   ]
  },
  {
   "cell_type": "code",
   "execution_count": 39,
   "id": "13ed370c-9621-4676-a190-5158e51cb3fa",
   "metadata": {},
   "outputs": [
    {
     "name": "stdout",
     "output_type": "stream",
     "text": [
      "Celcius is in 12 are : 53.6\n"
     ]
    }
   ],
   "source": [
    "cel_to_fah(celcius)"
   ]
  },
  {
   "cell_type": "markdown",
   "id": "f6800255-7512-4259-89df-52348666af57",
   "metadata": {},
   "source": [
    "# 3. Write a Python program to display calendar?"
   ]
  },
  {
   "cell_type": "code",
   "execution_count": 70,
   "id": "49077878-91f1-4053-a4d0-36070800ca7a",
   "metadata": {},
   "outputs": [
    {
     "name": "stdout",
     "output_type": "stream",
     "text": [
      "   February 2024\n",
      "Mo Tu We Th Fr Sa Su\n",
      "          1  2  3  4\n",
      " 5  6  7  8  9 10 11\n",
      "12 13 14 15 16 17 18\n",
      "19 20 21 22 23 24 25\n",
      "26 27 28 29\n",
      "\n"
     ]
    }
   ],
   "source": [
    "import calendar\n",
    "\n",
    "print(calendar.month(2024, 2))"
   ]
  },
  {
   "cell_type": "code",
   "execution_count": 66,
   "id": "f64b3ecd-bd92-4c7f-9af0-c6693d8370ec",
   "metadata": {},
   "outputs": [
    {
     "data": {
      "text/plain": [
       "(calendar.THURSDAY, 29)"
      ]
     },
     "execution_count": 66,
     "metadata": {},
     "output_type": "execute_result"
    }
   ],
   "source": [
    "calendar.monthrange(2024,2)"
   ]
  },
  {
   "cell_type": "markdown",
   "id": "01c3f15a-6bce-4f36-9ae9-bf42173381dc",
   "metadata": {},
   "source": [
    "# 4. Write a Python program to solve quadratic equation?"
   ]
  },
  {
   "cell_type": "code",
   "execution_count": 105,
   "id": "c5d78223-656f-492e-af46-d97e04934ef5",
   "metadata": {},
   "outputs": [
    {
     "name": "stdout",
     "output_type": "stream",
     "text": [
      "The roots are\n",
      "(-3.414213562373095+0j)\n",
      "(-0.5857864376269049+0j)\n"
     ]
    }
   ],
   "source": [
    "import cmath\n",
    "\n",
    "a = 1\n",
    "b = 4\n",
    "c = 2\n",
    "\n",
    "dis = (b**2) - (4*a*c)\n",
    "\n",
    "ans1 = (-b - cmath.sqrt(dis))/(2*a)\n",
    "ans2 = (-b + cmath.sqrt(dis))/(2*a)\n",
    "\n",
    "print('The roots are')\n",
    "print(ans1)\n",
    "print(ans2)"
   ]
  },
  {
   "cell_type": "code",
   "execution_count": null,
   "id": "d9bc7568-ce64-45d1-8b10-75fa86479a80",
   "metadata": {},
   "outputs": [],
   "source": []
  }
 ],
 "metadata": {
  "kernelspec": {
   "display_name": "Python 3 (ipykernel)",
   "language": "python",
   "name": "python3"
  },
  "language_info": {
   "codemirror_mode": {
    "name": "ipython",
    "version": 3
   },
   "file_extension": ".py",
   "mimetype": "text/x-python",
   "name": "python",
   "nbconvert_exporter": "python",
   "pygments_lexer": "ipython3",
   "version": "3.12.4"
  }
 },
 "nbformat": 4,
 "nbformat_minor": 5
}
